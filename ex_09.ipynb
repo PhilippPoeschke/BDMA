{
 "cells": [
  {
   "cell_type": "code",
   "execution_count": 1,
   "metadata": {},
   "outputs": [
    {
     "name": "stdout",
     "output_type": "stream",
     "text": [
      "      UserID                        Game    Action  Hours  Other\n",
      "0  151603712  The Elder Scrolls V Skyrim  purchase    1.0      0\n",
      "1  151603712  The Elder Scrolls V Skyrim      play  273.0      0\n",
      "2  151603712                   Fallout 4  purchase    1.0      0\n",
      "3  151603712                   Fallout 4      play   87.0      0\n",
      "4  151603712                       Spore  purchase    1.0      0\n",
      "      UserID                        Game Action  Hours  Other\n",
      "1  151603712  The Elder Scrolls V Skyrim   play  273.0      0\n",
      "3  151603712                   Fallout 4   play   87.0      0\n",
      "5  151603712                       Spore   play   14.9      0\n",
      "7  151603712           Fallout New Vegas   play   12.1      0\n",
      "9  151603712               Left 4 Dead 2   play    8.9      0\n",
      "(57789, 5)\n"
     ]
    }
   ],
   "source": [
    "import numpy as np\n",
    "import pandas as pd\n",
    "\n",
    "# Load rating data\n",
    "data = pd.read_csv('steam-200k.csv', header=None, index_col=None, \n",
    "                   names=['UserID', 'Game', 'Action', 'Hours', 'Other'])\n",
    "print(data.head())\n",
    "\n",
    "# Delete rows which represent only purchase actions\n",
    "data = data[data['Action'] == 'play']\n",
    "\n",
    "# Delete users who have played less than 5 games\n",
    "data = data.groupby('UserID').filter(lambda x: len(x) >= 5)\n",
    "\n",
    "print(data.head())\n",
    "print(data.shape)"
   ]
  },
  {
   "cell_type": "code",
   "execution_count": 2,
   "metadata": {},
   "outputs": [
    {
     "name": "stdout",
     "output_type": "stream",
     "text": [
      "(2436, 3544)\n"
     ]
    }
   ],
   "source": [
    "# Create a rating matrix with ratings=hoursPlayed\n",
    "rating_data = data.pivot_table(index='UserID',columns='Game', values='Hours', fill_value=0)\n",
    "print(rating_data.shape)"
   ]
  },
  {
   "cell_type": "code",
   "execution_count": 3,
   "metadata": {},
   "outputs": [
    {
     "name": "stdout",
     "output_type": "stream",
     "text": [
      "(2436, 2436)\n",
      "(2436,)\n",
      "(3544, 3544)\n"
     ]
    }
   ],
   "source": [
    "from numpy.linalg import svd\n",
    "\n",
    "rating_matrix = rating_data.as_matrix()\n",
    "U, S, V = svd(rating_matrix)\n",
    "print(U.shape)\n",
    "print(S.shape)\n",
    "print(V.shape)"
   ]
  },
  {
   "cell_type": "code",
   "execution_count": 4,
   "metadata": {},
   "outputs": [
    {
     "name": "stdout",
     "output_type": "stream",
     "text": [
      "Index(['Fallout 3', 'Influent', 'Lili Child of Geos', 'Hate Plus',\n",
      "       'ArtRage Studio Pro', 'LEGO MARVEL Super Heroes', 'Fallout New Vegas',\n",
      "       'BioShock', 'Assassin's Creed',\n",
      "       'Dysfunctional Systems Learning to Manage Chaos', 'FINAL FANTASY VII',\n",
      "       'Fallout 3 - Game of the Year Edition', 'Spoiler Alert',\n",
      "       'Commander Keen Complete Pack', 'Tiny and Big Grandpa's Leftovers',\n",
      "       'MURI', 'Monopoly', 'The Secret of Monkey Island Special Edition',\n",
      "       'Shadowrun Dragonfall - Director's Cut', 'Jagged Alliance Crossfire'],\n",
      "      dtype='object', name='Game')\n"
     ]
    }
   ],
   "source": [
    "from scipy.spatial.distance import cdist\n",
    "\n",
    "def get_topk_similar_games(game_name, n_components, topk):\n",
    "    reduced_game_matrix = V.T[:, :n_components]\n",
    "    game_idx = rating_data.columns.get_loc(game_name)\n",
    "    reduced_game_vector = reduced_game_matrix[game_idx, None, :]\n",
    "    distances = cdist(reduced_game_vector, reduced_game_matrix, metric='cosine')[0]\n",
    "    return rating_data.columns[np.argsort(distances)[:topk]]\n",
    "\n",
    "game_name = 'Fallout 3'\n",
    "print(get_topk_similar_games(game_name, n_components=50, topk=20))"
   ]
  }
 ],
 "metadata": {
  "kernelspec": {
   "display_name": "Python 3",
   "language": "python",
   "name": "python3"
  },
  "language_info": {
   "codemirror_mode": {
    "name": "ipython",
    "version": 3
   },
   "file_extension": ".py",
   "mimetype": "text/x-python",
   "name": "python",
   "nbconvert_exporter": "python",
   "pygments_lexer": "ipython3",
   "version": "3.6.3"
  }
 },
 "nbformat": 4,
 "nbformat_minor": 2
}
