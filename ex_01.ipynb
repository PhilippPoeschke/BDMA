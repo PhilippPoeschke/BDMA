{
 "cells": [
  {
   "cell_type": "markdown",
   "metadata": {},
   "source": [
    "Some basics on lists in Python"
   ]
  },
  {
   "cell_type": "code",
   "execution_count": null,
   "metadata": {
    "collapsed": true
   },
   "outputs": [],
   "source": [
    "l0 = ['I','like',20,'cookies']\n",
    "print(l0)"
   ]
  },
  {
   "cell_type": "code",
   "execution_count": null,
   "metadata": {
    "collapsed": true
   },
   "outputs": [],
   "source": [
    "print(l0[1])"
   ]
  },
  {
   "cell_type": "code",
   "execution_count": null,
   "metadata": {
    "collapsed": true
   },
   "outputs": [],
   "source": [
    "print(l0[1:3])"
   ]
  },
  {
   "cell_type": "code",
   "execution_count": null,
   "metadata": {
    "collapsed": true
   },
   "outputs": [],
   "source": [
    "print(l0[-1])"
   ]
  },
  {
   "cell_type": "code",
   "execution_count": null,
   "metadata": {
    "collapsed": true
   },
   "outputs": [],
   "source": [
    "print(l0[::2])"
   ]
  },
  {
   "cell_type": "code",
   "execution_count": null,
   "metadata": {
    "collapsed": true
   },
   "outputs": [],
   "source": [
    "l0 = l0 + [',', 'yay']\n",
    "print(l0)\n",
    "l0.append('!')\n",
    "print(l0)\n",
    "print(len(l0))"
   ]
  },
  {
   "cell_type": "markdown",
   "metadata": {},
   "source": [
    "Assignment 1-2\n",
    "\n",
    "Create a list which contains all numbers from $0$ to $10$."
   ]
  },
  {
   "cell_type": "code",
   "execution_count": null,
   "metadata": {
    "collapsed": true
   },
   "outputs": [],
   "source": [
    "#This is a comment\n",
    "'''\n",
    "This is a block comment\n",
    "'''\n",
    "l1 = [0, 1, 2, 3, 4, 5, 6, 7, 8, 9, 10]\n",
    "#l1 = list(range(11))\n",
    "print(l1)"
   ]
  },
  {
   "cell_type": "markdown",
   "metadata": {},
   "source": [
    "Assignment 1-3\n",
    "\n",
    "Using the created list from the previous assignment, print each element of the created list if it is an odd number, by using a loop and conditionals. \n",
    "\n",
    "Try using different type of loops."
   ]
  },
  {
   "cell_type": "code",
   "execution_count": null,
   "metadata": {
    "collapsed": true
   },
   "outputs": [],
   "source": [
    "#Version with for-loop\n",
    "for e in l1:\n",
    "    if e%2 != 0:\n",
    "        print(e)"
   ]
  },
  {
   "cell_type": "code",
   "execution_count": null,
   "metadata": {
    "collapsed": true
   },
   "outputs": [],
   "source": [
    "#Version with while-loop\n",
    "i = 0\n",
    "while i <len(l1):\n",
    "    if l1[i] %2 != 0:\n",
    "        print(l1[i])\n",
    "    i+=1"
   ]
  },
  {
   "cell_type": "code",
   "execution_count": null,
   "metadata": {
    "collapsed": true
   },
   "outputs": [],
   "source": [
    "#Version with list comprehension\n",
    "l2 = [x for x in l1 if x%2 !=0]\n",
    "print(l2)"
   ]
  },
  {
   "cell_type": "markdown",
   "metadata": {},
   "source": [
    "Assignment 1-4\n",
    "\n",
    "Now generate a list which contains all numbers from $0$ to $n$ which have been squared using list comprehensions."
   ]
  },
  {
   "cell_type": "code",
   "execution_count": null,
   "metadata": {
    "collapsed": true
   },
   "outputs": [],
   "source": [
    "l3 = [x**2 for x in range(7)]\n",
    "print(l3)"
   ]
  },
  {
   "cell_type": "markdown",
   "metadata": {},
   "source": [
    "Assignment 1-5\n",
    "\n",
    "Write a function which takes an integer $n$. The function first creates a list of numbers from $0$ to $n$. Then square each number of the list. Further each of the squared numbers is tested if it is odd. All odd numbers are then appended to a new list. The function returns the list of odd (squared) numbers. "
   ]
  },
  {
   "cell_type": "code",
   "execution_count": null,
   "metadata": {
    "collapsed": true
   },
   "outputs": [],
   "source": [
    "def get_odd(n):\n",
    "    return [x for x in [x**2 for x in range(n+1)] if x%2 !=0]\n",
    "    #return [x**2 for x in range(n+1) if x**2%2 !=0]\n",
    "    #return [x**2 for x in range(n+1) if x%2 !=0] # note: x is odd iff x**2 is odd\n",
    "    #return [x**2 for x in range(n+1) if x&1]\n",
    "\n",
    "print(get_odd(7))"
   ]
  },
  {
   "cell_type": "markdown",
   "metadata": {},
   "source": [
    "Assignment 1-6\n",
    "\n",
    "Given a list $a = ['I','like','cookies']$ and another list $b = a$. Replace in the list $b$ the word $'cookies'$ with $'apples'$. Finally print both lists ($a$ and $b$). What do you observe?  What leads to the observed behavior?"
   ]
  },
  {
   "cell_type": "code",
   "execution_count": null,
   "metadata": {
    "collapsed": true
   },
   "outputs": [],
   "source": [
    "a = ['I','like','cookies']\n",
    "b = a\n",
    "\n",
    "b[2] = 'apples'\n",
    "print(\"list a: \"+str(a))\n",
    "print(\"list b: \"+str(b))\n",
    "\n",
    "print(id(a),id(b))"
   ]
  },
  {
   "cell_type": "markdown",
   "metadata": {},
   "source": [
    "Assignment 1-7\n",
    "\n",
    "Given a list $a = ['I','like','cookies']$ and another list which takes a shallow copy of $a$, $b = a[:]$. Like in the previous assignment, replace in the list $b$ the word $'cookies'$ with $'apples'$. Finally print both lists ($a$ and $b$). What do you observe now?"
   ]
  },
  {
   "cell_type": "code",
   "execution_count": null,
   "metadata": {
    "collapsed": true
   },
   "outputs": [],
   "source": [
    "a1 = ['I','like','cookies']\n",
    "b1 = a1[:]\n",
    "b1[2] = 'apples'\n",
    "\n",
    "print(\"list a1: \"+str(a1))\n",
    "print(\"list b1: \"+str(b1))\n",
    "print(id(a1),id(b1))"
   ]
  },
  {
   "cell_type": "markdown",
   "metadata": {},
   "source": [
    "Assignment 1-8\n",
    "\n",
    "Now we are given a list $a = ['I','like',['chocolate','cookies']]$ and another list which takes a shallow copy of $a$, $b = a[:]$. Change now the word $'cookies'$ with $'apples'$ in $b$. Now print again both lists ($a$ and $b$). What do you observe?  What leads to the observed behavior?"
   ]
  },
  {
   "cell_type": "code",
   "execution_count": null,
   "metadata": {
    "collapsed": true
   },
   "outputs": [],
   "source": [
    "a3 =  ['I','like',['chocolate', 'cookies']]\n",
    "b3 = a3[:]\n",
    "b3[2][1] = 'apples'\n",
    "print(\"list a3: \"+str(a3))\n",
    "print(\"list b3: \"+str(b3))\n",
    "print(id(a3),id(b3))\n",
    "print(id(a3[2]),id(b3[2]))"
   ]
  },
  {
   "cell_type": "markdown",
   "metadata": {},
   "source": [
    "Assignment 1-9\n",
    "\n",
    "Like in the previous assignment, we are given a list $a = ['I','like',['chocolate','cookies']]$. Another list $b = deepcopy(a)$ takes this time a deep copy from $a$. Change now the word $'cookies'$ with $'apples'$ in $b$. Print both lists ($a$ and $b$). What do you observe now?\n",
    "\n",
    "Hint: For deep copy, first type: from copy import deepcopy."
   ]
  },
  {
   "cell_type": "code",
   "execution_count": null,
   "metadata": {
    "collapsed": true
   },
   "outputs": [],
   "source": [
    "from copy import deepcopy\n",
    "\n",
    "a4 =  ['I','like',['chocolate', 'cookies']]\n",
    "b4 = deepcopy(a4)\n",
    "b4[2][1] = 'apples'\n",
    "print(\"list a4: \"+str(a4))\n",
    "print(\"list b4: \"+str(b4))\n",
    "print(id(a4[2]),id(b4[2]))"
   ]
  },
  {
   "cell_type": "markdown",
   "metadata": {},
   "source": [
    "Some basics on dictionaries in Python"
   ]
  },
  {
   "cell_type": "code",
   "execution_count": null,
   "metadata": {
    "collapsed": true
   },
   "outputs": [],
   "source": [
    "# Introduction to dictionaries\n",
    "\n",
    "#create a dictionary\n",
    "d0 = { 'monday' : 'stupid',\n",
    "     'friday' : 'awesome'}\n",
    "\n",
    "#access dictionary by key\n",
    "print(d0['monday'])\n",
    "\n",
    "#assign to a dictionary key a value\n",
    "d0['sunday'] = 'ohh no'\n",
    "print(d0)\n",
    "\n",
    "#remove dictionary entry by key\n",
    "del(d0['monday'])\n",
    "print(d0)\n",
    "\n",
    "#mixed types\n",
    "d0[1] = 'monday'\n",
    "print(d0)\n",
    "\n",
    "#print list of keys / values\n",
    "print(d0.keys())\n",
    "print(d0.values())"
   ]
  },
  {
   "cell_type": "markdown",
   "metadata": {},
   "source": [
    "Assignment 1-10\n",
    "\n",
    "Create a dictionary with $n$ entries, where the keys are enumerated from 0 to $n-1$ and the values are their corresponding keys squared. Use list comprehensions. \n",
    "\n",
    "\n",
    "Example for expected result: $n=7$;  \n",
    "\n",
    "$\\lbrace 0:0, 1:1, 2:4, 3:9, 4:16, 5:25, 6:36 \\rbrace$"
   ]
  },
  {
   "cell_type": "code",
   "execution_count": null,
   "metadata": {
    "collapsed": true
   },
   "outputs": [],
   "source": [
    "d1 = {x : x**2 for x in range(7)}\n",
    "print(d1)"
   ]
  },
  {
   "cell_type": "code",
   "execution_count": null,
   "metadata": {
    "collapsed": true
   },
   "outputs": [],
   "source": [
    "#Using zip\n",
    "keys = range(7)\n",
    "values = [x**2 for x in keys]\n",
    "print(zip(keys, values))\n",
    "print(list(zip(keys, values)))\n",
    "d1 = dict(zip(keys, values))\n",
    "print(d1)"
   ]
  },
  {
   "cell_type": "markdown",
   "metadata": {},
   "source": [
    "Assignment 1-11\n",
    "\n",
    "Use the dictionary from the previous assignment. Write a list comprehension to get a list of all the keys of the dictionary. "
   ]
  },
  {
   "cell_type": "code",
   "execution_count": null,
   "metadata": {
    "collapsed": true
   },
   "outputs": [],
   "source": [
    "#it actually corresponds to d.keys()\n",
    "dlis = [x for x in d1]\n",
    "print(dlis)"
   ]
  },
  {
   "cell_type": "markdown",
   "metadata": {
    "collapsed": true
   },
   "source": [
    "Assignment 1-12\n",
    "\n",
    "Write a list comprehension which takes a number $n$ and returns a list with even numbers, using a lambda function."
   ]
  },
  {
   "cell_type": "code",
   "execution_count": null,
   "metadata": {
    "collapsed": true
   },
   "outputs": [],
   "source": [
    "even1 = lambda x: x%2 ==0\n",
    "l7 = [x for x in range(7) if even1(x)]\n",
    "print(l7)"
   ]
  },
  {
   "cell_type": "markdown",
   "metadata": {},
   "source": [
    "Assignment 1-13\n",
    "\n",
    "First write a function which takes a length in inch and returns a length in cm. Given a list $l$ with lengths in inches:\n",
    "\n",
    "$l = [4, 4.5, 5, 5.5, 6, 7]$\n",
    "\n",
    "Write a list comprehension which takes $l$ and returns a list with all values converted to cm using map. "
   ]
  },
  {
   "cell_type": "code",
   "execution_count": null,
   "metadata": {
    "collapsed": true
   },
   "outputs": [],
   "source": [
    "linch = [4,4.5,5,5.5,6,7]\n",
    "\n",
    "def inch_to_cm(length):\n",
    "    return length*2.54\n",
    "\n",
    "lcm = list(map(inch_to_cm, linch))\n",
    "print(lcm)"
   ]
  },
  {
   "cell_type": "markdown",
   "metadata": {},
   "source": [
    "Assignment 1-14\n",
    "\n",
    "Write a list comprehension which filters the list $l$ from the assignment above by returning only sizes between 4 and 6 inches."
   ]
  },
  {
   "cell_type": "code",
   "execution_count": null,
   "metadata": {
    "collapsed": true
   },
   "outputs": [],
   "source": [
    "lrange = list(filter(lambda x: x > 4 and x < 6, linch))\n",
    "print(lrange)"
   ]
  },
  {
   "cell_type": "markdown",
   "metadata": {},
   "source": [
    "Assignment 1-15\n",
    "\n",
    "Write a list comprehension which reduces the list $l$ by summing up all lengths. \n",
    "\n",
    "Hint: for using the reduce function, you need to import it first by:\n",
    "\n",
    "from functools import reduce"
   ]
  },
  {
   "cell_type": "code",
   "execution_count": null,
   "metadata": {
    "collapsed": true
   },
   "outputs": [],
   "source": [
    "from functools import reduce\n",
    "lsum = reduce(lambda x,y: x+y, linch)\n",
    "print(lsum)"
   ]
  },
  {
   "cell_type": "code",
   "execution_count": null,
   "metadata": {
    "collapsed": true
   },
   "outputs": [],
   "source": [
    "print(sum(linch))\n",
    "print(min(linch))"
   ]
  },
  {
   "cell_type": "markdown",
   "metadata": {},
   "source": [
    "Some more features of Python"
   ]
  },
  {
   "cell_type": "code",
   "execution_count": null,
   "metadata": {},
   "outputs": [],
   "source": [
    "#variable unpacking:\n",
    "my3dcoor = (5,4,9)\n",
    "x,y,z = my3dcoor\n",
    "print('x: ',x, ' y: ',y, ' z: ',z)\n",
    "\n",
    "\n",
    "#'unzipping' of list of tuples into separate lists\n",
    "mymullist = [(1,2,3),(2,4,6),(3,6,9),(4,8,12)]\n",
    "mul1, mul2, mul3 = list(zip(* mymullist))\n",
    "print(mul1, mul2, mul3)\n",
    "\n",
    "\n",
    "#A fast way for removing a list from duplicates using sets\n",
    "redundancylist = [1,1,2,3,3,3,4,5]\n",
    "nonredundancy = list(set(redundancylist))\n",
    "print(nonredundancy)\n",
    "\n",
    "\n",
    "#create all pairwise non-redundant and non self-matched pairs using itertools\n",
    "from itertools import combinations\n",
    "for i in combinations('ABCDE',2):\n",
    "    print(i)"
   ]
  },
  {
   "cell_type": "code",
   "execution_count": null,
   "metadata": {
    "collapsed": true
   },
   "outputs": [],
   "source": [
    "# :-)\n",
    "import antigravity"
   ]
  }
 ],
 "metadata": {
  "anaconda-cloud": {},
  "kernelspec": {
   "display_name": "Python 3",
   "language": "python",
   "name": "python3"
  },
  "language_info": {
   "codemirror_mode": {
    "name": "ipython",
    "version": 3
   },
   "file_extension": ".py",
   "mimetype": "text/x-python",
   "name": "python",
   "nbconvert_exporter": "python",
   "pygments_lexer": "ipython3",
   "version": "3.6.4"
  }
 },
 "nbformat": 4,
 "nbformat_minor": 1
}
