{
 "cells": [
  {
   "cell_type": "code",
   "execution_count": null,
   "metadata": {
    "collapsed": true
   },
   "outputs": [],
   "source": [
    "\"\"\"\n",
    "script for power iteration example\n",
    "\"\"\"\n",
    "\n",
    "import numpy as np\n",
    "\n",
    "#covariance matrix\n",
    "M = np.matrix([[(14.0/3.0), 6],[6, 9]])\n",
    "#init (random) unit vector\n",
    "x_init = np.array([1,1])\n",
    "\n",
    "for i in range(1,10):\n",
    "    x_i = (np.linalg.matrix_power(M, i)).dot(x_init)\n",
    "    x_prev = (np.linalg.matrix_power(M, i-1)).dot(x_init)\n",
    "\n",
    "    print(\"iteration: \",i)\n",
    "    print(\"x_i: \",x_i)\n",
    "    print(\"x_i-1: \",x_prev)\n",
    "\n",
    "    x_i_ratio = x_i/np.linalg.norm(x_i)\n",
    "    x_prev_ratio = x_prev/np.linalg.norm(x_prev)\n",
    "    \n",
    "    print(\"x_i_norm: \",x_i_ratio)\n",
    "    print(\"x_i-1_norm: \",x_prev_ratio)\n",
    "    print(\"delta: \",x_i_ratio-x_prev_ratio)\n",
    "    print(\"----------------\")\n",
    "    \n",
    "    \n",
    "    if(np.allclose(x_i_ratio, x_prev_ratio)):\n",
    "        print(\"convergence reached: \",x_i_ratio)\n",
    "        break\n",
    "    \n",
    "    x_prev = x_i"
   ]
  }
 ],
 "metadata": {
  "anaconda-cloud": {},
  "kernelspec": {
   "display_name": "Python [Root]",
   "language": "python",
   "name": "Python [Root]"
  },
  "language_info": {
   "codemirror_mode": {
    "name": "ipython",
    "version": 3
   },
   "file_extension": ".py",
   "mimetype": "text/x-python",
   "name": "python",
   "nbconvert_exporter": "python",
   "pygments_lexer": "ipython3",
   "version": "3.5.1"
  }
 },
 "nbformat": 4,
 "nbformat_minor": 0
}
