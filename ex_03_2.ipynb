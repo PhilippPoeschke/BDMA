{
 "cells": [
  {
   "cell_type": "code",
   "execution_count": 1,
   "metadata": {},
   "outputs": [],
   "source": [
    "#define matrices\n",
    "A = [[1,2,3],[4,5,6]]\n",
    "\n",
    "B = [[7,8], [9,10], [11,12]]\n"
   ]
  },
  {
   "cell_type": "code",
   "execution_count": 3,
   "metadata": {},
   "outputs": [
    {
     "name": "stdout",
     "output_type": "stream",
     "text": [
      "[(1, 1, 1), (1, 2, 2), (1, 3, 3), (2, 1, 4), (2, 2, 5), (2, 3, 6)]\n",
      "[(1, 1, 7), (1, 2, 8), (2, 1, 9), (2, 2, 10), (3, 1, 11), (3, 2, 12)]\n"
     ]
    }
   ],
   "source": [
    "#put the matrices into the right form\n",
    "def rewriteMatrix(M):\n",
    "    mList=[]\n",
    "    for i in range(len(M)):\n",
    "        for j in range(len(M[i])):\n",
    "            mList.append((i+1,j+1,M[i][j]))\n",
    "    return mList\n",
    "\n",
    "\n",
    "aList=rewriteMatrix(A)\n",
    "print(aList)\n",
    "bList=rewriteMatrix(B)\n",
    "print(bList)\n"
   ]
  },
  {
   "cell_type": "code",
   "execution_count": 4,
   "metadata": {},
   "outputs": [
    {
     "name": "stdout",
     "output_type": "stream",
     "text": [
      "[(1, ('a', 1, 1)), (2, ('a', 1, 2)), (3, ('a', 1, 3)), (1, ('a', 2, 4)), (2, ('a', 2, 5)), (3, ('a', 2, 6))]\n",
      "[(1, ('b', 1, 7)), (1, ('b', 2, 8)), (2, ('b', 1, 9)), (2, ('b', 2, 10)), (3, ('b', 1, 11)), (3, ('b', 2, 12))]\n"
     ]
    }
   ],
   "source": [
    "# Step 1: map\n",
    "# map (i,j,v)-> (j,(A,i,v))\n",
    "mapAToJ= lambda listentry: (listentry[1], ('a',listentry[0], listentry[2]))\n",
    "aListJ= list(map(mapAToJ, aList))\n",
    "print(aListJ)\n",
    "\n",
    "# map (j,k,w)-> (j, (B,k,w)) \n",
    "mapBToJ= lambda listentry: (listentry[0], ('b',listentry[1], listentry[2]))\n",
    "bListJ= list(map(mapBToJ, bList))\n",
    "print(bListJ)"
   ]
  },
  {
   "cell_type": "code",
   "execution_count": 5,
   "metadata": {
    "scrolled": true
   },
   "outputs": [
    {
     "name": "stdout",
     "output_type": "stream",
     "text": [
      "[(1, [('a', 1, 1), ('b', 1, 7)]), (1, [('a', 1, 1), ('b', 2, 8)]), (2, [('a', 1, 2), ('b', 1, 9)]), (2, [('a', 1, 2), ('b', 2, 10)]), (3, [('a', 1, 3), ('b', 1, 11)]), (3, [('a', 1, 3), ('b', 2, 12)]), (1, [('a', 2, 4), ('b', 1, 7)]), (1, [('a', 2, 4), ('b', 2, 8)]), (2, [('a', 2, 5), ('b', 1, 9)]), (2, [('a', 2, 5), ('b', 2, 10)]), (3, [('a', 2, 6), ('b', 1, 11)]), (3, [('a', 2, 6), ('b', 2, 12)])]\n"
     ]
    }
   ],
   "source": [
    "#Step 2: join\n",
    "joinedAB= [(ja, [(a,i,v) , (b,k,w)]) for (ja,(a,i,v)) in aListJ for (jb,(b,k,w)) in bListJ if ja == jb]\n",
    "print(joinedAB)\n"
   ]
  },
  {
   "cell_type": "code",
   "execution_count": 6,
   "metadata": {},
   "outputs": [
    {
     "name": "stdout",
     "output_type": "stream",
     "text": [
      "[((1, 1), 7), ((1, 2), 8), ((1, 1), 18), ((1, 2), 20), ((1, 1), 33), ((1, 2), 36), ((2, 1), 28), ((2, 2), 32), ((2, 1), 45), ((2, 2), 50), ((2, 1), 66), ((2, 2), 72)]\n"
     ]
    }
   ],
   "source": [
    "#Step 3: map\n",
    "\n",
    "# mult= lambda [j,[(a,i,v),(b,k,w)]]: ((i,k),(v*w)) does not work since tuple unpacking is not supported in python 3\n",
    "# mult= lambda t: ((t[1][0][1],t[1][1][1]), t[1][0][2]*t[1][1][2]) works but not nice looking\n",
    "\n",
    "def mult(t):\n",
    "    [j,[(a,i,v),(b,k,w)]]=t\n",
    "    return ((i,k),(v*w))\n",
    "\n",
    "mappedAB= list(map(mult,joinedAB))\n",
    "print(mappedAB)"
   ]
  },
  {
   "cell_type": "code",
   "execution_count": 12,
   "metadata": {},
   "outputs": [
    {
     "name": "stdout",
     "output_type": "stream",
     "text": [
      "[((1, 1), 58), ((1, 2), 64), ((2, 1), 139), ((2, 2), 154)]\n"
     ]
    }
   ],
   "source": [
    "#Step 4: Reduce By Key \n",
    "from itertools import groupby\n",
    "from functools import reduce\n",
    "from operator import itemgetter\n",
    "\n",
    "def addUp(x, y):\n",
    "    return (x[0],x[1]+ y[1])\n",
    "\n",
    "C=[reduce(addUp, group) for _, group in groupby(sorted(mappedAB), key=itemgetter(0))]\n",
    "print(C)\n",
    "\n",
    "\n"
   ]
  }
 ],
 "metadata": {
  "kernelspec": {
   "display_name": "Python 3",
   "language": "python",
   "name": "python3"
  },
  "language_info": {
   "codemirror_mode": {
    "name": "ipython",
    "version": 3
   },
   "file_extension": ".py",
   "mimetype": "text/x-python",
   "name": "python",
   "nbconvert_exporter": "python",
   "pygments_lexer": "ipython3",
   "version": "3.7.5"
  }
 },
 "nbformat": 4,
 "nbformat_minor": 2
}
